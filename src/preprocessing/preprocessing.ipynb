{
 "cells": [
  {
   "attachments": {},
   "cell_type": "markdown",
   "metadata": {},
   "source": [
    "**used libraries:**\n",
    "- pandas\n",
    "- glob\n",
    "- os \n",
    "- pyunpack\n",
    "- shutil"
   ]
  },
  {
   "attachments": {},
   "cell_type": "markdown",
   "metadata": {},
   "source": [
    "**make a new folder in data for preprocessing**"
   ]
  },
  {
   "cell_type": "code",
   "execution_count": 31,
   "metadata": {},
   "outputs": [],
   "source": [
    "mkdir ../../data/preprocessing/\n"
   ]
  },
  {
   "attachments": {},
   "cell_type": "markdown",
   "metadata": {},
   "source": [
    "**download the data dump**"
   ]
  },
  {
   "cell_type": "code",
   "execution_count": 32,
   "metadata": {},
   "outputs": [
    {
     "name": "stdout",
     "output_type": "stream",
     "text": [
      "--2023-04-14 08:32:51--  https://s3.amazonaws.com/wikia_xml_dumps/e/el/elderscrolls_pages_current.xml.7z\n",
      "Auflösen des Hostnamens s3.amazonaws.com (s3.amazonaws.com)… 54.231.233.160, 52.217.116.136, 52.216.52.240, ...\n",
      "Verbindungsaufbau zu s3.amazonaws.com (s3.amazonaws.com)|54.231.233.160|:443 … verbunden.\n",
      "HTTP-Anforderung gesendet, auf Antwort wird gewartet … 200 OK\n",
      "Länge: 191673320 (183M) [application/x-7z-compressed]\n",
      "Wird in »../../data/preprocessing/elderscrolls_pages_current.xml.7z« gespeichert.\n",
      "\n",
      "elderscrolls_pages_ 100%[===================>] 182,79M  29,3MB/s    in 7,4s    \n",
      "\n",
      "2023-04-14 08:32:59 (24,8 MB/s) - »../../data/preprocessing/elderscrolls_pages_current.xml.7z« gespeichert [191673320/191673320]\n",
      "\n"
     ]
    }
   ],
   "source": [
    "!wget  https://s3.amazonaws.com/wikia_xml_dumps/e/el/elderscrolls_pages_current.xml.7z -P ../../data/preprocessing/"
   ]
  },
  {
   "attachments": {},
   "cell_type": "markdown",
   "metadata": {},
   "source": [
    "**clone and unzip wikiextractor**"
   ]
  },
  {
   "cell_type": "code",
   "execution_count": 33,
   "metadata": {},
   "outputs": [
    {
     "name": "stdout",
     "output_type": "stream",
     "text": [
      "--2023-04-14 08:32:59--  https://github.com/attardi/wikiextractor/archive/master.zip\n",
      "Auflösen des Hostnamens github.com (github.com)… 140.82.121.3\n",
      "Verbindungsaufbau zu github.com (github.com)|140.82.121.3|:443 … verbunden.\n",
      "HTTP-Anforderung gesendet, auf Antwort wird gewartet … 302 Found\n",
      "Platz: https://codeload.github.com/attardi/wikiextractor/zip/refs/heads/master [folgend]\n",
      "--2023-04-14 08:32:59--  https://codeload.github.com/attardi/wikiextractor/zip/refs/heads/master\n",
      "Auflösen des Hostnamens codeload.github.com (codeload.github.com)… 140.82.121.10\n",
      "Verbindungsaufbau zu codeload.github.com (codeload.github.com)|140.82.121.10|:443 … verbunden.\n",
      "HTTP-Anforderung gesendet, auf Antwort wird gewartet … 200 OK\n",
      "Länge: nicht spezifiziert [application/zip]\n",
      "Wird in »../../data/preprocessing/master.zip« gespeichert.\n",
      "\n",
      "master.zip              [ <=>                ]  48,29K  --.-KB/s    in 0,03s   \n",
      "\n",
      "2023-04-14 08:32:59 (1,62 MB/s) - »../../data/preprocessing/master.zip« gespeichert [49444]\n",
      "\n",
      "Archive:  ../../data/preprocessing/master.zip\n",
      "8f1b434a80608e1e313d38d263ed7c79c9ee75a9\n",
      "   creating: ../../data/preprocessing/wikiextractor-master/\n",
      "   creating: ../../data/preprocessing/wikiextractor-master/.github/\n",
      "   creating: ../../data/preprocessing/wikiextractor-master/.github/workflows/\n",
      "  inflating: ../../data/preprocessing/wikiextractor-master/.github/workflows/python-publish.yml  \n",
      "  inflating: ../../data/preprocessing/wikiextractor-master/.gitignore  \n",
      "  inflating: ../../data/preprocessing/wikiextractor-master/LICENSE  \n",
      "  inflating: ../../data/preprocessing/wikiextractor-master/README.md  \n",
      "  inflating: ../../data/preprocessing/wikiextractor-master/extract.sh  \n",
      "  inflating: ../../data/preprocessing/wikiextractor-master/setup.py  \n",
      "   creating: ../../data/preprocessing/wikiextractor-master/wikiextractor/\n",
      "  inflating: ../../data/preprocessing/wikiextractor-master/wikiextractor/WikiExtractor.py  \n",
      " extracting: ../../data/preprocessing/wikiextractor-master/wikiextractor/__init__.py  \n",
      "  inflating: ../../data/preprocessing/wikiextractor-master/wikiextractor/cirrus-extract.py  \n",
      "  inflating: ../../data/preprocessing/wikiextractor-master/wikiextractor/clean.py  \n",
      "  inflating: ../../data/preprocessing/wikiextractor-master/wikiextractor/extract.py  \n",
      "  inflating: ../../data/preprocessing/wikiextractor-master/wikiextractor/extractPage.py  \n"
     ]
    }
   ],
   "source": [
    "!wget https://github.com/attardi/wikiextractor/archive/master.zip -P ../../data/preprocessing/\n",
    "!unzip ../../data/preprocessing/master.zip -d ../../data/preprocessing/"
   ]
  },
  {
   "attachments": {},
   "cell_type": "markdown",
   "metadata": {},
   "source": [
    "**unpack the data dump**"
   ]
  },
  {
   "cell_type": "code",
   "execution_count": 34,
   "metadata": {},
   "outputs": [],
   "source": [
    "from pyunpack import Archive\n",
    "\n",
    "Archive('../../data/preprocessing/elderscrolls_pages_current.xml.7z').extractall(\"../../data/preprocessing/\")"
   ]
  },
  {
   "attachments": {},
   "cell_type": "markdown",
   "metadata": {},
   "source": [
    "**use wikiextractor to clean the data**\n",
    "- cleaned data will be saved in json in `../../data/preprocessing/text`"
   ]
  },
  {
   "cell_type": "code",
   "execution_count": 35,
   "metadata": {},
   "outputs": [
    {
     "name": "stdout",
     "output_type": "stream",
     "text": [
      "INFO: Preprocessing '../../data/preprocessing/elderscrolls_pages_current.xml' to collect template definitions: this may take some time.\n",
      "INFO: Preprocessed 100000 pages\n",
      "INFO: Preprocessed 200000 pages\n",
      "INFO: Preprocessed 300000 pages\n",
      "INFO: Preprocessed 400000 pages\n",
      "INFO: Preprocessed 500000 pages\n",
      "INFO: Preprocessed 600000 pages\n",
      "INFO: Preprocessed 700000 pages\n",
      "INFO: Preprocessed 800000 pages\n",
      "INFO: Preprocessed 900000 pages\n",
      "INFO: Preprocessed 1000000 pages\n",
      "INFO: Loaded 2444 templates in 15.7s\n",
      "INFO: Starting page extraction from ../../data/preprocessing/elderscrolls_pages_current.xml.\n",
      "INFO: Using 7 extract processes.\n",
      "INFO: Finished 7-process extraction of 82931 articles in 38.6s (2149.0 art/s)\n"
     ]
    }
   ],
   "source": [
    "!mkdir ../../data/preprocessing/text\n",
    "!python3 -m wikiextractor.WikiExtractor --json -o ../../data/preprocessing/text ../../data/preprocessing/elderscrolls_pages_current.xml"
   ]
  },
  {
   "attachments": {},
   "cell_type": "markdown",
   "metadata": {},
   "source": [
    "**create one dataframe from all data files**"
   ]
  },
  {
   "cell_type": "code",
   "execution_count": 36,
   "metadata": {},
   "outputs": [
    {
     "data": {
      "text/html": [
       "<div>\n",
       "<style scoped>\n",
       "    .dataframe tbody tr th:only-of-type {\n",
       "        vertical-align: middle;\n",
       "    }\n",
       "\n",
       "    .dataframe tbody tr th {\n",
       "        vertical-align: top;\n",
       "    }\n",
       "\n",
       "    .dataframe thead th {\n",
       "        text-align: right;\n",
       "    }\n",
       "</style>\n",
       "<table border=\"1\" class=\"dataframe\">\n",
       "  <thead>\n",
       "    <tr style=\"text-align: right;\">\n",
       "      <th></th>\n",
       "      <th>id</th>\n",
       "      <th>revid</th>\n",
       "      <th>url</th>\n",
       "      <th>title</th>\n",
       "      <th>text</th>\n",
       "    </tr>\n",
       "  </thead>\n",
       "  <tbody>\n",
       "    <tr>\n",
       "      <th>0</th>\n",
       "      <td>994497</td>\n",
       "      <td>32045548</td>\n",
       "      <td>http://elderscrolls.fandom.com/wiki?curid=994497</td>\n",
       "      <td>The Imperfect Logistics Log</td>\n",
       "      <td>The Imperfect Logistics Log is a book in .\\nCo...</td>\n",
       "    </tr>\n",
       "    <tr>\n",
       "      <th>1</th>\n",
       "      <td>994500</td>\n",
       "      <td>32045548</td>\n",
       "      <td>http://elderscrolls.fandom.com/wiki?curid=994500</td>\n",
       "      <td>The Law of Gears</td>\n",
       "      <td>The Law of Gears is a book in .\\nContents.\\nBy...</td>\n",
       "    </tr>\n",
       "    <tr>\n",
       "      <th>2</th>\n",
       "      <td>994501</td>\n",
       "      <td>32045548</td>\n",
       "      <td>http://elderscrolls.fandom.com/wiki?curid=994501</td>\n",
       "      <td>The Memories of Sotha Sil</td>\n",
       "      <td>The Memories of Sotha Sil is a book in .\\nCont...</td>\n",
       "    </tr>\n",
       "    <tr>\n",
       "      <th>3</th>\n",
       "      <td>994504</td>\n",
       "      <td>32045548</td>\n",
       "      <td>http://elderscrolls.fandom.com/wiki?curid=994504</td>\n",
       "      <td>The Mystery of Artaeum</td>\n",
       "      <td>The Mystery of Artaeum is a book in .\\nContent...</td>\n",
       "    </tr>\n",
       "    <tr>\n",
       "      <th>4</th>\n",
       "      <td>994505</td>\n",
       "      <td>32045548</td>\n",
       "      <td>http://elderscrolls.fandom.com/wiki?curid=994505</td>\n",
       "      <td>The Mystery of Factotums</td>\n",
       "      <td>The Mystery of Factotums is a book in .\\nConte...</td>\n",
       "    </tr>\n",
       "    <tr>\n",
       "      <th>...</th>\n",
       "      <td>...</td>\n",
       "      <td>...</td>\n",
       "      <td>...</td>\n",
       "      <td>...</td>\n",
       "      <td>...</td>\n",
       "    </tr>\n",
       "    <tr>\n",
       "      <th>82925</th>\n",
       "      <td>954666</td>\n",
       "      <td>32045548</td>\n",
       "      <td>http://elderscrolls.fandom.com/wiki?curid=954666</td>\n",
       "      <td>Nothilgor</td>\n",
       "      <td>Nothilgor is a Bosmer member of the Aldmeri Do...</td>\n",
       "    </tr>\n",
       "    <tr>\n",
       "      <th>82926</th>\n",
       "      <td>954667</td>\n",
       "      <td>17401442</td>\n",
       "      <td>http://elderscrolls.fandom.com/wiki?curid=954667</td>\n",
       "      <td>Escaped Prisoner</td>\n",
       "      <td>Escaped Prisoner is an unused Nord in . He wea...</td>\n",
       "    </tr>\n",
       "    <tr>\n",
       "      <th>82927</th>\n",
       "      <td>954669</td>\n",
       "      <td>32045548</td>\n",
       "      <td>http://elderscrolls.fandom.com/wiki?curid=954669</td>\n",
       "      <td>Nothirvir</td>\n",
       "      <td>Nothirvir is a Bosmer member of the Vinedusk R...</td>\n",
       "    </tr>\n",
       "    <tr>\n",
       "      <th>82928</th>\n",
       "      <td>954670</td>\n",
       "      <td>32045548</td>\n",
       "      <td>http://elderscrolls.fandom.com/wiki?curid=954670</td>\n",
       "      <td>Nothrelras</td>\n",
       "      <td>Nothrelras is a Bosmer soldier of the Aldmeri ...</td>\n",
       "    </tr>\n",
       "    <tr>\n",
       "      <th>82929</th>\n",
       "      <td>954671</td>\n",
       "      <td>32045548</td>\n",
       "      <td>http://elderscrolls.fandom.com/wiki?curid=954671</td>\n",
       "      <td>Nothrolion</td>\n",
       "      <td>Nothrolion is a Bosmer member of the Falinesti...</td>\n",
       "    </tr>\n",
       "  </tbody>\n",
       "</table>\n",
       "<p>82930 rows × 5 columns</p>\n",
       "</div>"
      ],
      "text/plain": [
       "           id     revid                                               url   \n",
       "0      994497  32045548  http://elderscrolls.fandom.com/wiki?curid=994497  \\\n",
       "1      994500  32045548  http://elderscrolls.fandom.com/wiki?curid=994500   \n",
       "2      994501  32045548  http://elderscrolls.fandom.com/wiki?curid=994501   \n",
       "3      994504  32045548  http://elderscrolls.fandom.com/wiki?curid=994504   \n",
       "4      994505  32045548  http://elderscrolls.fandom.com/wiki?curid=994505   \n",
       "...       ...       ...                                               ...   \n",
       "82925  954666  32045548  http://elderscrolls.fandom.com/wiki?curid=954666   \n",
       "82926  954667  17401442  http://elderscrolls.fandom.com/wiki?curid=954667   \n",
       "82927  954669  32045548  http://elderscrolls.fandom.com/wiki?curid=954669   \n",
       "82928  954670  32045548  http://elderscrolls.fandom.com/wiki?curid=954670   \n",
       "82929  954671  32045548  http://elderscrolls.fandom.com/wiki?curid=954671   \n",
       "\n",
       "                             title   \n",
       "0      The Imperfect Logistics Log  \\\n",
       "1                 The Law of Gears   \n",
       "2        The Memories of Sotha Sil   \n",
       "3           The Mystery of Artaeum   \n",
       "4         The Mystery of Factotums   \n",
       "...                            ...   \n",
       "82925                    Nothilgor   \n",
       "82926             Escaped Prisoner   \n",
       "82927                    Nothirvir   \n",
       "82928                   Nothrelras   \n",
       "82929                   Nothrolion   \n",
       "\n",
       "                                                    text  \n",
       "0      The Imperfect Logistics Log is a book in .\\nCo...  \n",
       "1      The Law of Gears is a book in .\\nContents.\\nBy...  \n",
       "2      The Memories of Sotha Sil is a book in .\\nCont...  \n",
       "3      The Mystery of Artaeum is a book in .\\nContent...  \n",
       "4      The Mystery of Factotums is a book in .\\nConte...  \n",
       "...                                                  ...  \n",
       "82925  Nothilgor is a Bosmer member of the Aldmeri Do...  \n",
       "82926  Escaped Prisoner is an unused Nord in . He wea...  \n",
       "82927  Nothirvir is a Bosmer member of the Vinedusk R...  \n",
       "82928  Nothrelras is a Bosmer soldier of the Aldmeri ...  \n",
       "82929  Nothrolion is a Bosmer member of the Falinesti...  \n",
       "\n",
       "[82930 rows x 5 columns]"
      ]
     },
     "execution_count": 36,
     "metadata": {},
     "output_type": "execute_result"
    }
   ],
   "source": [
    "import glob\n",
    "import os\n",
    "import pandas as pd\n",
    "\n",
    "df = pd.DataFrame()\n",
    "\n",
    "# default output directory is ../../data/preprocessing/text \n",
    "\n",
    "for x in os.walk(\"../../data/preprocessing/text\"):\n",
    "    for y in glob.glob(os.path.join(x[0], '**')):\n",
    "        if not os.path.isdir(y):\n",
    "            df = pd.concat([df, pd.read_json(y, lines=True)], ignore_index=True, sort=False)       \n",
    "\n",
    "\n",
    "df\n"
   ]
  },
  {
   "attachments": {},
   "cell_type": "markdown",
   "metadata": {},
   "source": [
    "**delete unnecessary data and save dataframe as .pickle file**\n",
    "- dataframe can be read with `pd.read_pickle('../../data/preprocessing/preprocessed_data.pickle')` "
   ]
  },
  {
   "cell_type": "code",
   "execution_count": 25,
   "metadata": {},
   "outputs": [],
   "source": [
    "import shutil\n",
    "shutil.rmtree('../../data/preprocessing')"
   ]
  },
  {
   "cell_type": "code",
   "execution_count": null,
   "metadata": {},
   "outputs": [],
   "source": [
    "!mkdir ../../data/preprocessing\n",
    "df.to_pickle('../../data/preprocessing/preprocessed_data.pickle')"
   ]
  }
 ],
 "metadata": {
  "kernelspec": {
   "display_name": "Python 3",
   "language": "python",
   "name": "python3"
  },
  "language_info": {
   "codemirror_mode": {
    "name": "ipython",
    "version": 3
   },
   "file_extension": ".py",
   "mimetype": "text/x-python",
   "name": "python",
   "nbconvert_exporter": "python",
   "pygments_lexer": "ipython3",
   "version": "3.9.6"
  },
  "orig_nbformat": 4
 },
 "nbformat": 4,
 "nbformat_minor": 2
}
