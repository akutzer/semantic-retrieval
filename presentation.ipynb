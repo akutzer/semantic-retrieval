{
 "cells": [
  {
   "cell_type": "code",
   "execution_count": null,
   "metadata": {
    "slideshow": {
     "slide_type": ""
    },
    "tags": []
   },
   "outputs": [],
   "source": [
    "import os\n",
    "import re\n",
    "\n",
    "import torch\n",
    "import numpy as np\n",
    "import pandas as pd\n",
    "from ipywidgets import Button, Text, HBox, VBox, HTML, Dropdown, IntSlider\n",
    "from ipywidgets import widgets\n",
    "from IPython.display import display, HTML as IPyHTML, clear_output\n",
    "\n",
    "from retrieval.models import load_colbert_and_tokenizer, ColBERTInference, TfIdf\n",
    "from retrieval.indexing import IndexConfig, index, ColBERTRetriever\n",
    "from retrieval.data import Passages\n",
    "from retrieval.model_understanding import visualize, visualize_for_specific_word_in_question"
   ]
  },
  {
   "cell_type": "code",
   "execution_count": null,
   "metadata": {
    "slideshow": {
     "slide_type": ""
    },
    "tags": []
   },
   "outputs": [],
   "source": [
    "def getWiklinkToPIDs(wikis, passages, pids):\n",
    "    return [wikis.loc[passages[passages['PID'] == pid].WID.values[0]].url for pid in pids]\n",
    "\n",
    "def getPassagesForPIDs(passages, pids):\n",
    "    return [passages[passages['PID'] == pid].passage.values[0] for pid in pids]\n",
    "\n",
    "def display_text_with_link(counter, html_address, text):\n",
    "    html_link = f'<div style=\"background-color: #f9f9f9; padding: 10px; border: 1px solid #ddd; border-radius: 5px; margin-bottom: 10px;\"><div style=\"display: inline-block; width: 30px; text-align: center; margin-right: 10px;\">{counter}.</div><a href=\"{html_address}\" target=\"_blank\" style=\"color: #1a0dab; text-decoration: none;\">{text}</a></div>'\n",
    "    display(HTML(html_link))\n",
    "\n",
    "def display_best_search_results(question, pairs):\n",
    "    title = f'<h2 style=\"color: #1a0dab;\"><i class=\"fa fa-search\" style=\"margin-right: 10px;\"></i>Best search results for question: \"{question}\"</h2>'\n",
    "    display(HTML(title))\n",
    "\n",
    "    for i, (website_html, text) in enumerate(pairs, start=1):\n",
    "        display_text_with_link(i, website_html, text)"
   ]
  },
  {
   "cell_type": "code",
   "execution_count": null,
   "metadata": {
    "slideshow": {
     "slide_type": ""
    },
    "tags": []
   },
   "outputs": [],
   "source": [
    "%%html\n",
    "<link rel=\"stylesheet\" href=\"https://cdnjs.cloudflare.com/ajax/libs/font-awesome/5.15.3/css/all.min.css\">\n",
    "\n",
    "style = \"<style>.widget-dropdown > .widget-label { width: auto !important; }</style>\"\n",
    "display(HTML(style))\n"
   ]
  },
  {
   "cell_type": "code",
   "execution_count": null,
   "metadata": {
    "slideshow": {
     "slide_type": ""
    },
    "tags": []
   },
   "outputs": [],
   "source": [
    "# let the user select the database and model\n",
    "DEVICE = \"cuda\" if torch.cuda.is_available() else \"mps\" if torch.has_mps else \"cpu\"\n",
    "print(f\"Running on: {DEVICE}\")\n",
    "\n",
    "CHECKPOINT_PATHS = [\"data/colbertv2.0\"]\n",
    "WIKI_PATHS = [\"data/fandoms_qa/harry_potter/all\", \"data/fandoms_qa/witcher/all\", \"data/fandoms_qa/fandoms_all/all\"]\n",
    "\n",
    "dropdown_checkpoint = Dropdown(options=CHECKPOINT_PATHS, description='Select a model checkpoint:')\n",
    "display(dropdown_checkpoint)\n",
    "\n",
    "dropdown_wiki = Dropdown(options=WIKI_PATHS, description='Select a wiki:')\n",
    "display(dropdown_wiki)"
   ]
  },
  {
   "cell_type": "code",
   "execution_count": null,
   "metadata": {
    "slideshow": {
     "slide_type": ""
    },
    "tags": []
   },
   "outputs": [],
   "source": [
    "checkpoint_path = dropdown_checkpoint.value\n",
    "passages_path = os.path.join(dropdown_wiki.value, \"passages.tsv\")\n",
    "index_path = os.path.join(dropdown_wiki.value, f\"{os.path.basename(dropdown_checkpoint.value)}_passages.idx\")\n",
    "wiki_json_path = os.path.join(dropdown_wiki.value, \"wiki.json\")\n",
    "\n",
    "\n",
    "index_cfg = IndexConfig(\n",
    "        passages_path=passages_path,\n",
    "        checkpoint_path=checkpoint_path,\n",
    "        index_path=index_path,\n",
    "        use_gpu=\"cpu\" not in DEVICE,\n",
    "        device=DEVICE,\n",
    "        dtype=torch.float16,\n",
    "        batch_size=8\n",
    ")\n",
    "print(index_cfg)\n",
    "passages = Passages(passages_path)\n",
    "\n",
    "passages_df = pd.read_csv(passages_path, sep ='\\t')\n",
    "wikis_df = pd.read_json(wiki_json_path, orient='index')\n",
    "\n",
    "\n",
    "# initialize the models and index the selected wiki\n",
    "inference = ColBERTInference.from_pretrained(checkpoint_path)\n",
    "inference.tokenizer.doc_maxlen = 512\n",
    "# we can't skip the punctuation, otherwise the visualization would be offset\n",
    "inference.colbert.config.skip_punctuation = False\n",
    "inference.colbert.skiplist = None\n",
    "retriever = ColBERTRetriever(inference, device=DEVICE, passages=passages)\n",
    "\n",
    "\n",
    "if os.path.exists(index_path):\n",
    "    print(f\"Loading precomputed indices: {index_path}\")\n",
    "    retriever.indexer.load(index_path)\n",
    "else:\n",
    "    print(f\"Starting to precompute the indices! (GPU recommended otherwise RIP X.X)\")\n",
    "    retriever.indexer = index(inference, index_cfg, store=True)\n",
    "    print(f\"Stored to precomputed indices under {index_path}\")\n",
    "                           \n",
    "# use float32 when running on cpu, since not all functions support float16 on cpu (e.g. addmm) \n",
    "if \"cpu\" in DEVICE:\n",
    "    retriever.to(dtype=torch.float32)\n",
    "\n",
    "    "
   ]
  },
  {
   "cell_type": "code",
   "execution_count": null,
   "metadata": {
    "slideshow": {
     "slide_type": ""
    },
    "tags": []
   },
   "outputs": [],
   "source": [
    "passages_g = []\n",
    "question_g = ''\n",
    "\n",
    "def search(question, k, mode):\n",
    "    if mode.lower() == \"tf_idf\":\n",
    "        sims, pids  = retriever.tf_idf_rank([question], k=k)[0]\n",
    "    elif mode.lower() == \"rerank\":\n",
    "        sims, pids  = retriever.rerank([question], k=k)[0]\n",
    "    elif mode.lower() == \"full_retrieval\":\n",
    "        sims, pids  = retriever.full_retrieval([question], k=k)[0]\n",
    "    else:\n",
    "        raise ValueError(\"Unknown retrieval methode!\")\n",
    "    \n",
    "    links = getWiklinkToPIDs(wikis_df, passages_df, pids.tolist())\n",
    "    passage_matches = getPassagesForPIDs(passages_df, pids.tolist())\n",
    "    global passages_g, question_g\n",
    "    passages_g = passage_matches\n",
    "    question_g = question\n",
    "\n",
    "    return list(zip(links, sims.tolist(), passage_matches))"
   ]
  },
  {
   "cell_type": "code",
   "execution_count": null,
   "metadata": {
    "scrolled": true,
    "slideshow": {
     "slide_type": ""
    },
    "tags": []
   },
   "outputs": [],
   "source": [
    "clear_output()\n",
    "\n",
    "def display_text_with_link(counter, html_address, sim, text):\n",
    "    matches = re.findall(r'\\[(.*)\\]', text)\n",
    "    if matches:\n",
    "        html_address = html_address +'#' + matches[0]\n",
    "        html_address = html_address.replace(' ', '_')\n",
    "\n",
    "    green_component = 100 + int(130 * (1 - sim))\n",
    "    color = f'rgb({green_component}, 255, {1/3 * green_component})'\n",
    "    sim_box = f'<div style=\"display: inline-block; width: 50px; height: 20px; background-color: {color}; text-align: center; line-height: 20px;\">{round(sim, 4)}</div>'\n",
    "    html_link = f'<div style=\"background-color: #f9f9f9; padding: 10px; border: 1px solid #ddd; border-radius: 5px; margin-bottom: 10px;\"><div style=\"display: inline-block; text-align: center; margin-right: 10px;\">{counter}.</div><div style=\"display: inline-block;\">{sim_box}</div><a href=\"{html_address}\" target=\"_blank\" style=\"color: #1a0dab; text-decoration: none;\"><br/>{text}</a></div>'\n",
    "    display(HTML(html_link))\n",
    "\n",
    "\n",
    "def update_pairs(button):\n",
    "    question = text_input.value\n",
    "\n",
    "    # Call your Python function 'f' to update the pairs list based on the question\n",
    "    updated_pairs = search(question, k=topK_slider.value, mode=dropdown_mode.value)\n",
    "\n",
    "    # Clear the existing output, including search results\n",
    "    clear_output()\n",
    "\n",
    "    # Display the input field, magnifying glass button, \"Best search results for question\" block\n",
    "    display(VBox([input_box,topK_slider,dropdown_mode]))\n",
    "\n",
    "    # Display the updated search results\n",
    "    for i, (website_html, sim, text) in enumerate(updated_pairs, start=1):\n",
    "        display_text_with_link(i, website_html, sim, text)\n",
    "\n",
    "# Create a slider where the user can select the maximal amount of passages that should be returned\"  \n",
    "topK_slider = IntSlider(min=10, max=1000, step=10, description='Select how many passages should be returned:')\n",
    "display(topK_slider)\n",
    "\n",
    "# Create a slider where the user can select the desired quering methode\n",
    "dropdown_mode = Dropdown(options=[\"tf_idf\", \"rerank\", \"full_retrieval\"], description='Select a quering methode:')\n",
    "display(dropdown_mode)\n",
    "        \n",
    "# Create the input field and magnifying glass button\n",
    "text_input = Text(description='', layout={'width': '500px', 'height': '75px'}, style={'font-size': '18px'})\n",
    "search_button = Button(description='', icon='search', layout={'width': '40px', 'height': '40px'})\n",
    "\n",
    "# Add the click event handler to the magnifying glass button\n",
    "search_button.on_click(update_pairs)\n",
    "\n",
    "# Create a horizontal box to hold the input field and magnifying glass button\n",
    "input_box = HBox([text_input, search_button])\n",
    "\n",
    "# Create the \"Best search results for question\" block\n",
    "best_results_title = HTML('<h2 style=\"color: #1a0dab;\">Best search results for question:</h2>')\n",
    "\n",
    "# Display the input field, magnifying glass button, \"Best search results for question\" block\n",
    "display(VBox([input_box]))\n",
    "\n",
    "\n",
    "\n",
    "# example queries:\n",
    "#   How many children did Harry Potter have?\n",
    "#   Where was Rowling born?\n",
    "#   Where was the author of Harry Potter born?\n",
    "#   What is the origin of the name Potter? -> first solution bei full_retrieval mit großem k ist richtig, aber man sieht dass externe Links entfernt wurden durch den Wikiextractor\n",
    "#   The next sentence is right. The previous sentence was wrong."
   ]
  },
  {
   "cell_type": "code",
   "execution_count": null,
   "metadata": {
    "scrolled": false,
    "slideshow": {
     "slide_type": ""
    },
    "tags": []
   },
   "outputs": [],
   "source": [
    "number_input = widgets.IntText(description='Enter the rank of the passage you want to know more about:', value=1)\n",
    "display(number_input)"
   ]
  },
  {
   "cell_type": "code",
   "execution_count": null,
   "metadata": {
    "slideshow": {
     "slide_type": ""
    },
    "tags": []
   },
   "outputs": [],
   "source": [
    "clear_output()\n",
    "\n",
    "# test_passage = '\"[Main family] James Potter was the only child of Fleamont and Euphemia Potter. James married Lily Evans and they had one child, Harry, who famously defeated Lord Voldemort. Harry eventually married Ginny Weasley and they had three children: James Sirius, Albus Severus, and Lily Luna Potter.\"'\n",
    "kde_heatmap, count_heatmap, sum_heatmap = visualize(inference, question_g, passages_g[int(number_input.value) - 1], k=2, similarity=\"cosine\")\n",
    "print(\"Kernel Density Estimation:\")\n",
    "display(HTML(kde_heatmap))\n",
    "print(\"Absolute count:\")\n",
    "display(HTML(count_heatmap))\n",
    "print(\" Accumulated Similarities:\")\n",
    "display(HTML(sum_heatmap))"
   ]
  },
  {
   "cell_type": "code",
   "execution_count": null,
   "metadata": {
    "pycharm": {
     "name": "#%%\n"
    },
    "scrolled": false
   },
   "outputs": [],
   "source": [
    "word_index = widgets.IntText(description='Enter the index of a query Token. The passage will be colored only in relation to that Token!', value=2)\n",
    "query_tokens = np.array(inference.tokenizer.tokenize(question_g, \"query\", add_special_tokens=True))\n",
    "\n",
    "tokens_table = pd.DataFrame(data=[query_tokens], index=['Token'])\n",
    "pd.set_option('display.max_columns', None)\n",
    "display(word_index)\n",
    "display(tokens_table)\n"
   ]
  },
  {
   "cell_type": "code",
   "execution_count": null,
   "metadata": {
    "pycharm": {
     "name": "#%%\n"
    },
    "scrolled": true
   },
   "outputs": [],
   "source": [
    "display(\"Query Token: \" + query_tokens[int(word_index.value)])\n",
    "_, _, sum_heatmap = visualize_for_specific_word_in_question(inference, question_g, passages_g[int(number_input.value) - 1], word_index=int(word_index.value)-2)\n",
    "print(\" Similarity:\")\n",
    "display(HTML(sum_heatmap))"
   ]
  },
  {
   "cell_type": "code",
   "execution_count": null,
   "metadata": {},
   "outputs": [],
   "source": []
  }
 ],
 "metadata": {
  "kernelspec": {
   "display_name": "Python 3 (ipykernel)",
   "language": "python",
   "name": "python3"
  },
  "language_info": {
   "codemirror_mode": {
    "name": "ipython",
    "version": 3
   },
   "file_extension": ".py",
   "mimetype": "text/x-python",
   "name": "python",
   "nbconvert_exporter": "python",
   "pygments_lexer": "ipython3",
   "version": "3.10.11"
  },
  "vscode": {
   "interpreter": {
    "hash": "392c6331cad0b0712080b8e5f17b4ebf72e5099434096f3ae5ed932eb1b045ad"
   }
  }
 },
 "nbformat": 4,
 "nbformat_minor": 4
}
