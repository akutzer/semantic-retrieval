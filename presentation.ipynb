{
 "cells": [
  {
   "cell_type": "code",
   "execution_count": 1,
   "metadata": {},
   "outputs": [],
   "source": [
    "import os\n",
    "\n",
    "import torch\n",
    "import pandas as pd\n",
    "from ipywidgets import Button, Text, HBox, VBox, HTML, Dropdown, IntSlider\n",
    "from IPython.display import display, HTML as IPyHTML, clear_output\n",
    "\n",
    "from retrieval.models import load_colbert_and_tokenizer, ColBERTInference, TfIdf\n",
    "from retrieval.indexing import IndexConfig, index, ColBERTRetriever\n",
    "from retrieval.data import Passages\n",
    "from retrieval.model_understanding import visualize"
   ]
  },
  {
   "cell_type": "code",
   "execution_count": 2,
   "metadata": {},
   "outputs": [],
   "source": [
    "def getWiklinkToPIDs(wikis, passages, pids):\n",
    "    print(passages, wikis, pids)\n",
    "    return [wikis.loc[passages[passages['PID'] == pid].WID.values[0]].url for pid in pids]\n",
    "\n",
    "def getPassagesForPIDs(passages, pids):\n",
    "    return [passages[passages['PID'] == pid].passage.values[0] for pid in pids]\n",
    "\n",
    "def display_text_with_link(counter, html_address, text):\n",
    "    html_link = f'<div style=\"background-color: #f9f9f9; padding: 10px; border: 1px solid #ddd; border-radius: 5px; margin-bottom: 10px;\"><div style=\"display: inline-block; width: 30px; text-align: center; margin-right: 10px;\">{counter}.</div><a href=\"{html_address}\" target=\"_blank\" style=\"color: #1a0dab; text-decoration: none;\">{text}</a></div>'\n",
    "    display(HTML(html_link))\n",
    "\n",
    "def display_best_search_results(question, pairs):\n",
    "    title = f'<h2 style=\"color: #1a0dab;\"><i class=\"fa fa-search\" style=\"margin-right: 10px;\"></i>Best search results for question: \"{question}\"</h2>'\n",
    "    display(HTML(title))\n",
    "\n",
    "    for i, (website_html, text) in enumerate(pairs, start=1):\n",
    "        display_text_with_link(i, website_html, text)"
   ]
  },
  {
   "cell_type": "code",
   "execution_count": 3,
   "metadata": {},
   "outputs": [
    {
     "data": {
      "text/html": [
       "<link rel=\"stylesheet\" href=\"https://cdnjs.cloudflare.com/ajax/libs/font-awesome/5.15.3/css/all.min.css\">\n"
      ],
      "text/plain": [
       "<IPython.core.display.HTML object>"
      ]
     },
     "metadata": {},
     "output_type": "display_data"
    }
   ],
   "source": [
    "%%html\n",
    "<link rel=\"stylesheet\" href=\"https://cdnjs.cloudflare.com/ajax/libs/font-awesome/5.15.3/css/all.min.css\">"
   ]
  },
  {
   "cell_type": "code",
   "execution_count": 5,
   "metadata": {},
   "outputs": [
    {
     "data": {
      "application/vnd.jupyter.widget-view+json": {
       "model_id": "7ae90ad365844f40bc88d785708a9f7b",
       "version_major": 2,
       "version_minor": 0
      },
      "text/plain": [
       "Dropdown(description='Select a model checkpoint:', options=('data/colbertv2.0',), value='data/colbertv2.0')"
      ]
     },
     "metadata": {},
     "output_type": "display_data"
    },
    {
     "data": {
      "application/vnd.jupyter.widget-view+json": {
       "model_id": "9c8600e9050542c19fc9a41be84bd381",
       "version_major": 2,
       "version_minor": 0
      },
      "text/plain": [
       "Dropdown(description='Select a wiki:', options=('data/fandoms_qa/harry_potter/all', 'data/fandoms_qa/witcher/a…"
      ]
     },
     "metadata": {},
     "output_type": "display_data"
    }
   ],
   "source": [
    "# let the user select some the database and model\n",
    "DEVICE = \"cuda\" if torch.cuda.is_available() else \"cpu\"\n",
    "\n",
    "CHECKPOINT_PATHS = [\"data/colbertv2.0\"]\n",
    "WIKI_PATHS = [\"data/fandoms_qa/harry_potter/all\", \"data/fandoms_qa/witcher/all\", \"data/fandoms_qa/fandoms_all/all\"]\n",
    "\n",
    "dropdown_checkpoint = Dropdown(options=CHECKPOINT_PATHS, description='Select a model checkpoint:')\n",
    "display(dropdown_checkpoint)\n",
    "\n",
    "dropdown_wiki = Dropdown(options=WIKI_PATHS, description='Select a wiki:')\n",
    "display(dropdown_wiki)"
   ]
  },
  {
   "cell_type": "code",
   "execution_count": 6,
   "metadata": {},
   "outputs": [
    {
     "name": "stderr",
     "output_type": "stream",
     "text": [
      "[2023-06-23 15:00:36][WARNING] colbert_config.json does not exist, loading default config.\n",
      "[2023-06-23 15:00:36][INFO] Detected BERT Tokenizer. Using unused tokens for [Q]/[D] tokens\n",
      "[2023-06-23 15:00:36][INFO] Detected BERT Tokenizer. Using unused tokens for [Q]/[D] tokens\n",
      "[2023-06-23 15:00:36][WARNING] colbert_config.json does not exist, loading default config.\n"
     ]
    },
    {
     "name": "stdout",
     "output_type": "stream",
     "text": [
      "Passages: data/fandoms_qa/witcher/all/passages.tsv\n",
      "IndexConfig(passages_path='data/fandoms_qa/witcher/all/passages.tsv', checkpoint_path='data/colbertv2.0', index_path='', batch_size=8, use_gpu=True, device='cuda', dtype=torch.float16)\n"
     ]
    },
    {
     "name": "stderr",
     "output_type": "stream",
     "text": [
      "[2023-06-23 15:00:38][INFO] Detected ColBERTv2 checkpoint. Loading the model!\n",
      "[2023-06-23 15:00:41][INFO] Successfully loaded weights for last ColBERTv2 layer!\n",
      "100%|███████████████████████████████████████████████████████████████████████████████████████████████████████████████████████████████████████████████████████████████████████████████████████████████████| 3130/3130 [00:41<00:00, 75.56it/s]\n"
     ]
    }
   ],
   "source": [
    "# initialize the models and index the selected wiki\n",
    "passages_path = os.path.join(dropdown_wiki.value, \"passages.tsv\")\n",
    "wiki_json_path = os.path.join(dropdown_wiki.value, \"wiki.json\")\n",
    "checkpoint_path = dropdown_checkpoint.value\n",
    "print(f\"Passages: {passages_path}\")\n",
    "\n",
    "\n",
    "index_cfg = IndexConfig(\n",
    "        passages_path=passages_path,\n",
    "        checkpoint_path=checkpoint_path,\n",
    "        use_gpu=\"cpu\" not in DEVICE,\n",
    "        device=DEVICE,\n",
    "        dtype=torch.float16,\n",
    "        batch_size=8\n",
    ")\n",
    "print(index_cfg)\n",
    "passages = Passages(passages_path)\n",
    "\n",
    "inference = ColBERTInference.from_pretrained(checkpoint_path)\n",
    "inference.tokenizer.doc_maxlen = 512\n",
    "# we can't skip the punctuation, otherwise the visualization would be offset\n",
    "inference.colbert.config.skip_punctuation = False\n",
    "inference.colbert.skiplist = None\n",
    "retriever = ColBERTRetriever(inference, device=DEVICE, passages=passages)\n",
    "retriever.indexer = index(inference, index_cfg, store=False)"
   ]
  },
  {
   "cell_type": "code",
   "execution_count": 7,
   "metadata": {},
   "outputs": [],
   "source": [
    "passages_df = pd.read_csv(passages_path, sep ='\\t')\n",
    "wikis_df = pd.read_json(wiki_json_path, orient='index')"
   ]
  },
  {
   "cell_type": "code",
   "execution_count": 8,
   "metadata": {},
   "outputs": [],
   "source": [
    "def search(question, k, mode):\n",
    "    if mode.lower() == \"tf_idf\":\n",
    "        sims, pids  = retriever.tf_idf_rank([question], k=k)[0]\n",
    "    elif mode.lower() == \"rerank\":\n",
    "        sims, pids  = retriever.rerank([question], k=k)[0]\n",
    "    elif mode.lower() == \"full_retrieval\":\n",
    "        sims, pids  = retriever.full_retrieval([question], k=k)[0]\n",
    "    else:\n",
    "        raise ValueError()\n",
    "    \n",
    "    links = getWiklinkToPIDs(wikis_df, passages_df, pids.tolist())\n",
    "    passage_matches = getPassagesForPIDs(passages_df, pids.tolist())\n",
    "\n",
    "    return list(zip(links, sims.tolist(), passage_matches))"
   ]
  },
  {
   "cell_type": "code",
   "execution_count": 10,
   "metadata": {
    "scrolled": true
   },
   "outputs": [
    {
     "data": {
      "application/vnd.jupyter.widget-view+json": {
       "model_id": "82b914dc30a748f9b0461cc1aa53cf4b",
       "version_major": 2,
       "version_minor": 0
      },
      "text/plain": [
       "VBox(children=(HBox(children=(Text(value='How does a NPC react if it starts raining?', layout=Layout(height='7…"
      ]
     },
     "metadata": {},
     "output_type": "display_data"
    },
    {
     "data": {
      "application/vnd.jupyter.widget-view+json": {
       "model_id": "c32304bfa4764e039cd05f8baa309abc",
       "version_major": 2,
       "version_minor": 0
      },
      "text/plain": [
       "HTML(value='<div style=\"background-color: #f9f9f9; padding: 10px; border: 1px solid #ddd; border-radius: 5px; …"
      ]
     },
     "metadata": {},
     "output_type": "display_data"
    },
    {
     "data": {
      "application/vnd.jupyter.widget-view+json": {
       "model_id": "f21ca040a7584b6196612a722559cc3b",
       "version_major": 2,
       "version_minor": 0
      },
      "text/plain": [
       "HTML(value='<div style=\"background-color: #f9f9f9; padding: 10px; border: 1px solid #ddd; border-radius: 5px; …"
      ]
     },
     "metadata": {},
     "output_type": "display_data"
    },
    {
     "data": {
      "application/vnd.jupyter.widget-view+json": {
       "model_id": "20103f837a4249a2b185b85cffb2f5eb",
       "version_major": 2,
       "version_minor": 0
      },
      "text/plain": [
       "HTML(value='<div style=\"background-color: #f9f9f9; padding: 10px; border: 1px solid #ddd; border-radius: 5px; …"
      ]
     },
     "metadata": {},
     "output_type": "display_data"
    },
    {
     "data": {
      "application/vnd.jupyter.widget-view+json": {
       "model_id": "7533f9795dcf4deb85fdff144ceba4ae",
       "version_major": 2,
       "version_minor": 0
      },
      "text/plain": [
       "HTML(value='<div style=\"background-color: #f9f9f9; padding: 10px; border: 1px solid #ddd; border-radius: 5px; …"
      ]
     },
     "metadata": {},
     "output_type": "display_data"
    },
    {
     "data": {
      "application/vnd.jupyter.widget-view+json": {
       "model_id": "c07fa2c3a36f401c88d34ba4a79d2c33",
       "version_major": 2,
       "version_minor": 0
      },
      "text/plain": [
       "HTML(value='<div style=\"background-color: #f9f9f9; padding: 10px; border: 1px solid #ddd; border-radius: 5px; …"
      ]
     },
     "metadata": {},
     "output_type": "display_data"
    },
    {
     "data": {
      "application/vnd.jupyter.widget-view+json": {
       "model_id": "088ae00ba3c94832903ff66869ad57e0",
       "version_major": 2,
       "version_minor": 0
      },
      "text/plain": [
       "HTML(value='<div style=\"background-color: #f9f9f9; padding: 10px; border: 1px solid #ddd; border-radius: 5px; …"
      ]
     },
     "metadata": {},
     "output_type": "display_data"
    },
    {
     "data": {
      "application/vnd.jupyter.widget-view+json": {
       "model_id": "33944db1c960477db842c13c54844e2f",
       "version_major": 2,
       "version_minor": 0
      },
      "text/plain": [
       "HTML(value='<div style=\"background-color: #f9f9f9; padding: 10px; border: 1px solid #ddd; border-radius: 5px; …"
      ]
     },
     "metadata": {},
     "output_type": "display_data"
    },
    {
     "data": {
      "application/vnd.jupyter.widget-view+json": {
       "model_id": "f1e550478eff4f46a5fb1c69c7c367c4",
       "version_major": 2,
       "version_minor": 0
      },
      "text/plain": [
       "HTML(value='<div style=\"background-color: #f9f9f9; padding: 10px; border: 1px solid #ddd; border-radius: 5px; …"
      ]
     },
     "metadata": {},
     "output_type": "display_data"
    },
    {
     "data": {
      "application/vnd.jupyter.widget-view+json": {
       "model_id": "6b76b336da4a4920bcd3cc7e2b8d6806",
       "version_major": 2,
       "version_minor": 0
      },
      "text/plain": [
       "HTML(value='<div style=\"background-color: #f9f9f9; padding: 10px; border: 1px solid #ddd; border-radius: 5px; …"
      ]
     },
     "metadata": {},
     "output_type": "display_data"
    },
    {
     "data": {
      "application/vnd.jupyter.widget-view+json": {
       "model_id": "a6e5a03545f04beaa7014b63a0993ff2",
       "version_major": 2,
       "version_minor": 0
      },
      "text/plain": [
       "HTML(value='<div style=\"background-color: #f9f9f9; padding: 10px; border: 1px solid #ddd; border-radius: 5px; …"
      ]
     },
     "metadata": {},
     "output_type": "display_data"
    }
   ],
   "source": [
    "clear_output()\n",
    "\n",
    "def display_text_with_link(counter, html_address, sim, text):\n",
    "    html_link = f'<div style=\"background-color: #f9f9f9; padding: 10px; border: 1px solid #ddd; border-radius: 5px; margin-bottom: 10px;\"><div style=\"display: inline-block; width: 30px; text-align: center; margin-right: 10px;\">{counter}.</div><div>{round(sim, 4)}</div><a href=\"{html_address}\" target=\"_blank\" style=\"color: #1a0dab; text-decoration: none;\">{text}</a></div>'\n",
    "    display(HTML(html_link))\n",
    "\n",
    "def update_pairs(button):\n",
    "    question = text_input.value\n",
    "\n",
    "    # Call your Python function 'f' to update the pairs list based on the question\n",
    "    updated_pairs = search(question, k=topK_slider.value, mode=dropdown_mode.value)\n",
    "\n",
    "    # Clear the existing output, including search results\n",
    "    clear_output()\n",
    "\n",
    "    # Display the input field, magnifying glass button, \"Best search results for question\" block\n",
    "    display(VBox([input_box]))\n",
    "\n",
    "    # Display the updated search results\n",
    "    for i, (website_html, sim, text) in enumerate(updated_pairs, start=1):\n",
    "        display_text_with_link(i, website_html, sim, text)\n",
    "\n",
    "# Create a slider where the user can select the maximal amount of passages that should be returned\"  \n",
    "topK_slider = IntSlider(min=10, max=1000, step=10, description='Select how many passages should be returned:')\n",
    "display(topK_slider)\n",
    "\n",
    "# Create a slider where the user can select the desired quering methode\n",
    "dropdown_mode = Dropdown(options=[\"tf_idf\", \"rerank\", \"full_retrieval\"], description='Select a quering methode:')\n",
    "display(dropdown_mode)\n",
    "        \n",
    "# Create the input field and magnifying glass button\n",
    "text_input = Text(description='', layout={'width': '500px', 'height': '75px'}, style={'font-size': '18px'})\n",
    "search_button = Button(description='', icon='search', layout={'width': '40px', 'height': '40px'})\n",
    "\n",
    "# Add the click event handler to the magnifying glass button\n",
    "search_button.on_click(update_pairs)\n",
    "\n",
    "# Create a horizontal box to hold the input field and magnifying glass button\n",
    "input_box = HBox([text_input, search_button])\n",
    "\n",
    "# Create the \"Best search results for question\" block\n",
    "best_results_title = HTML('<h2 style=\"color: #1a0dab;\">Best search results for question:</h2>')\n",
    "\n",
    "# Display the input field, magnifying glass button, \"Best search results for question\" block\n",
    "display(VBox([input_box]))\n",
    "\n",
    "\n",
    "\n",
    "# example queries:\n",
    "#   How many children did Harry Potter have?\n",
    "#   Where was Rowling born?\n",
    "#   Where was the author of Harry Potter born?\n"
   ]
  },
  {
   "cell_type": "code",
   "execution_count": null,
   "metadata": {},
   "outputs": [],
   "source": []
  },
  {
   "cell_type": "code",
   "execution_count": 11,
   "metadata": {},
   "outputs": [
    {
     "data": {
      "application/vnd.jupyter.widget-view+json": {
       "model_id": "1d41ed470a2a40e1a9f3a875434031f6",
       "version_major": 2,
       "version_minor": 0
      },
      "text/plain": [
       "HTML(value='<span style=\"background-color:#f7fbffff\"> [CLS]</span><span style=\"background-color:#f7fbffff\"> [D…"
      ]
     },
     "metadata": {},
     "output_type": "display_data"
    },
    {
     "data": {
      "application/vnd.jupyter.widget-view+json": {
       "model_id": "4b4c9061d687499880b8f3f7fb0c152d",
       "version_major": 2,
       "version_minor": 0
      },
      "text/plain": [
       "HTML(value='<span style=\"background-color:#4896c8ff\"> [CLS]</span><span style=\"background-color:#f7fbffff\"> [D…"
      ]
     },
     "metadata": {},
     "output_type": "display_data"
    },
    {
     "data": {
      "application/vnd.jupyter.widget-view+json": {
       "model_id": "ceb5737a529046139d42612fecfce9f6",
       "version_major": 2,
       "version_minor": 0
      },
      "text/plain": [
       "HTML(value='<span style=\"background-color:#4896c8ff\"> [CLS]</span><span style=\"background-color:#f7fbffff\"> [D…"
      ]
     },
     "metadata": {},
     "output_type": "display_data"
    }
   ],
   "source": [
    "clear_output()\n",
    "\n",
    "test_query = \"How many children did Harry Potter have?\"\n",
    "test_passage = '\"[Main family] James Potter was the only child of Fleamont and Euphemia Potter. James married Lily Evans and they had one child, Harry, who famously defeated Lord Voldemort. Harry eventually married Ginny Weasley and they had three children: James Sirius, Albus Severus, and Lily Luna Potter.\"'\n",
    "html_vis = visualize(inference, test_query, test_passage, k=2, similarity=\"cosine\")\n",
    "display(HTML(html_vis[0]))\n",
    "display(HTML(html_vis[1]))\n",
    "display(HTML(html_vis[2]))"
   ]
  },
  {
   "cell_type": "code",
   "execution_count": 12,
   "metadata": {},
   "outputs": [
    {
     "data": {
      "application/vnd.jupyter.widget-view+json": {
       "model_id": "4c23c3e5cd1644a7bf3e5d308d419e0f",
       "version_major": 2,
       "version_minor": 0
      },
      "text/plain": [
       "HTML(value='<span style=\"background-color:#f7fbffff\"> [CLS]</span><span style=\"background-color:#f7fbffff\"> [D…"
      ]
     },
     "metadata": {},
     "output_type": "display_data"
    },
    {
     "data": {
      "application/vnd.jupyter.widget-view+json": {
       "model_id": "f62b7490422849668601eb7737da4f61",
       "version_major": 2,
       "version_minor": 0
      },
      "text/plain": [
       "HTML(value='<span style=\"background-color:#4896c8ff\"> [CLS]</span><span style=\"background-color:#f7fbffff\"> [D…"
      ]
     },
     "metadata": {},
     "output_type": "display_data"
    },
    {
     "data": {
      "application/vnd.jupyter.widget-view+json": {
       "model_id": "3d3aee6c876f4bcba2aad238ff88087e",
       "version_major": 2,
       "version_minor": 0
      },
      "text/plain": [
       "HTML(value='<span style=\"background-color:#4896c8ff\"> [CLS]</span><span style=\"background-color:#f7fbffff\"> [D…"
      ]
     },
     "metadata": {},
     "output_type": "display_data"
    }
   ],
   "source": [
    "clear_output()\n",
    "\n",
    "test_query = \"How many children did Harry Potter have?\"\n",
    "test_passage = '[\"December 29 2007, 12:00am, The Times] \"She felt compelled to map out the futures of the surviving members of the Weasley/Potter clan in a family tree. Readers will know that Harry and Ginny marry and have three children. Luna Lovegood, Harry’s dreamy friend, produces two children, with her naturalist husband, Rolf. Bill Weasley and Fleur Delacour have three children, and George Weasley sires a daughter, and a son named Fred after his twin who died in the battle of Hogwarts. “I can’t help it,” the author says in JK Rowling . . . a Year in the Life. “It was like running a race and you get to the finishing line and you’re running too fast to stop, so I do know what happened afterwards and I couldn’t stop my imagination doing that.\"'\n",
    "html_vis = visualize(inference, test_query, test_passage, k=2, similarity=\"cosine\")\n",
    "display(HTML(html_vis[0]))\n",
    "display(HTML(html_vis[1]))\n",
    "display(HTML(html_vis[2]))"
   ]
  }
 ],
 "metadata": {
  "kernelspec": {
   "display_name": "Python 3 (ipykernel)",
   "language": "python",
   "name": "python3"
  },
  "language_info": {
   "codemirror_mode": {
    "name": "ipython",
    "version": 3
   },
   "file_extension": ".py",
   "mimetype": "text/x-python",
   "name": "python",
   "nbconvert_exporter": "python",
   "pygments_lexer": "ipython3",
   "version": "3.10.11"
  },
  "vscode": {
   "interpreter": {
    "hash": "392c6331cad0b0712080b8e5f17b4ebf72e5099434096f3ae5ed932eb1b045ad"
   }
  }
 },
 "nbformat": 4,
 "nbformat_minor": 2
}
