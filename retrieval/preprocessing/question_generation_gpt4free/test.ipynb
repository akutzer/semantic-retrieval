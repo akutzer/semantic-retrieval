{
 "cells": [
  {
   "cell_type": "code",
   "execution_count": 1,
   "metadata": {},
   "outputs": [
    {
     "name": "stdout",
     "output_type": "stream",
     "text": [
      "HTTPSConnectionPool(host='ai.usesless.com', port=443): Max retries exceeded with url: /api/chat-process (Caused by ProxyError('Cannot connect to proxy.', NewConnectionError('<urllib3.connection.HTTPSConnection object at 0x1106a6d60>: Failed to establish a new connection: [Errno 8] nodename nor servname provided, or not known')))\n",
      "None\n"
     ]
    }
   ],
   "source": [
    "import usesless\n",
    "import requests\n",
    "import re\n",
    "passage_prompt='hi wie gehts'\n",
    "message_id = ''\n",
    "\n",
    "def getProxyList():\n",
    "    proxies = []\n",
    "    regex = \">([0-9]*.[0-9]*.[0-9]*.[0-9]*.[0-9]*)</td>\"\n",
    "    # files = ['https://github.com/TheSpeedX/PROXY-List/blob/master/http.txt','https://github.com/TheSpeedX/PROXY-List/blob/master/socks4.txt', 'https://github.com/TheSpeedX/PROXY-List/blob/master/socks5.txt']\n",
    "    files = ['https://github.com/mertguvencli/http-proxy-list/blob/main/proxy-list/data.txt']\n",
    "\n",
    "    for file in files:\n",
    "        res = requests.get(file)\n",
    "        proxies = proxies + re.findall(regex, res.text)\n",
    "\n",
    "    return proxies\n",
    "\n",
    "for https in getProxyList()[:1]:\n",
    "    print(usesless.Completion.create(prompt=passage_prompt, parentMessageId= message_id, proxy_https= https))"
   ]
  }
 ],
 "metadata": {
  "kernelspec": {
   "display_name": "Python 3",
   "language": "python",
   "name": "python3"
  },
  "language_info": {
   "codemirror_mode": {
    "name": "ipython",
    "version": 3
   },
   "file_extension": ".py",
   "mimetype": "text/x-python",
   "name": "python",
   "nbconvert_exporter": "python",
   "pygments_lexer": "ipython3",
   "version": "3.9.6"
  },
  "orig_nbformat": 4
 },
 "nbformat": 4,
 "nbformat_minor": 2
}
