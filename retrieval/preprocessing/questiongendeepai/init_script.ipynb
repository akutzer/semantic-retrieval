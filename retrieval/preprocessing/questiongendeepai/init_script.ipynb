{
 "cells": [
  {
   "cell_type": "code",
   "execution_count": 12,
   "metadata": {},
   "outputs": [
    {
     "data": {
      "text/plain": [
       "'./gpt4free/gpt4free/you/__init__.py'"
      ]
     },
     "execution_count": 12,
     "metadata": {},
     "output_type": "execute_result"
    }
   ],
   "source": [
    "import os\n",
    "import shutil\n",
    "\n",
    "if not os.path.isdir('./gpt4free'):\n",
    "    !git clone https://github.com/xtekky/gpt4free.git\n",
    "\n",
    "if  os.path.isfile('./gpt4free/tqg.py'):\n",
    "    os.remove('./gpt4free/tqg.py')\n",
    "\n",
    "shutil.copyfile('threaded_question_generation_deepai.py', './gpt4free/tqg.py')\n",
    "os.remove('./gpt4free/gpt4free/deepai/__init__.py')\n",
    "shutil.copyfile('./deepai/__init__.py', './gpt4free/gpt4free/deepai/__init__.py')\n",
    "os.remove('./gpt4free/gpt4free/you/__init__.py')\n",
    "shutil.copyfile('./you/__init__.py', './gpt4free/gpt4free/you/__init__.py')\n"
   ]
  }
 ],
 "metadata": {
  "kernelspec": {
   "display_name": "Python 3",
   "language": "python",
   "name": "python3"
  },
  "language_info": {
   "codemirror_mode": {
    "name": "ipython",
    "version": 3
   },
   "file_extension": ".py",
   "mimetype": "text/x-python",
   "name": "python",
   "nbconvert_exporter": "python",
   "pygments_lexer": "ipython3",
   "version": "3.9.6"
  },
  "orig_nbformat": 4
 },
 "nbformat": 4,
 "nbformat_minor": 2
}
