{
 "cells": [
  {
   "cell_type": "code",
   "execution_count": 2,
   "metadata": {},
   "outputs": [
    {
     "name": "stdout",
     "output_type": "stream",
     "text": [
      "Cloning into 'gpt4free'...\n",
      "remote: Enumerating objects: 9954, done.\u001b[K\n",
      "remote: Counting objects: 100% (651/651), done.\u001b[K\n",
      "remote: Compressing objects: 100% (121/121), done.\u001b[K\n",
      "remote: Total 9954 (delta 559), reused 563 (delta 530), pack-reused 9303\u001b[K\n",
      "Receiving objects: 100% (9954/9954), 155.10 MiB | 9.09 MiB/s, done.\n",
      "Resolving deltas: 100% (2239/2239), done.\n"
     ]
    },
    {
     "data": {
      "text/plain": [
       "'./gpt4free/gpt4free/deepai/__init__.py'"
      ]
     },
     "execution_count": 2,
     "metadata": {},
     "output_type": "execute_result"
    }
   ],
   "source": [
    "import os\n",
    "import shutil\n",
    "try:\n",
    "    shutil.rmtree('./gpt4free')\n",
    "except:\n",
    "    pass \n",
    "\n",
    "!git clone https://github.com/xtekky/gpt4free.git\n",
    "shutil.copyfile('threaded_question_generation_deepai.py', './gpt4free/tqg.py')\n",
    "os.remove('./gpt4free/gpt4free/deepai/__init__.py')\n",
    "shutil.copyfile('./deepai/__init__.py', './gpt4free/gpt4free/deepai/__init__.py')\n"
   ]
  }
 ],
 "metadata": {
  "kernelspec": {
   "display_name": "Python 3",
   "language": "python",
   "name": "python3"
  },
  "language_info": {
   "codemirror_mode": {
    "name": "ipython",
    "version": 3
   },
   "file_extension": ".py",
   "mimetype": "text/x-python",
   "name": "python",
   "nbconvert_exporter": "python",
   "pygments_lexer": "ipython3",
   "version": "3.9.6"
  },
  "orig_nbformat": 4
 },
 "nbformat": 4,
 "nbformat_minor": 2
}
