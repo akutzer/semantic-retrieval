{
 "cells": [
  {
   "cell_type": "code",
   "execution_count": 1,
   "metadata": {},
   "outputs": [
    {
     "name": "stdout",
     "output_type": "stream",
     "text": [
      "running\n"
     ]
    }
   ],
   "source": [
    "import time\n",
    "import hashlib\n",
    "from urllib.request import urlopen, Request\n",
    " \n",
    "# setting the URL you want to monitor\n",
    "url = Request('https://anmelden.deutsch-franzoesischer-interrail-pass.de/',\n",
    "              headers={'User-Agent': 'Mozilla/5.0'})\n",
    " \n",
    "# to perform a GET request and load the\n",
    "# content of the website and store it in a var\n",
    "response = urlopen(url).read()\n",
    " \n",
    "# to create the initial hash\n",
    "currentHash = hashlib.sha224(response).hexdigest()\n",
    "print(\"running\")\n",
    "time.sleep(10)\n",
    "while True:\n",
    "    try:\n",
    "        # perform the get request and store it in a var\n",
    "        response = urlopen(url).read()\n",
    " \n",
    "        # create a hash\n",
    "        currentHash = hashlib.sha224(response).hexdigest()\n",
    " \n",
    "        # wait for 30 seconds\n",
    "        time.sleep(60)\n",
    " \n",
    "        # perform the get request\n",
    "        response = urlopen(url).read()\n",
    " \n",
    "        # create a new hash\n",
    "        newHash = hashlib.sha224(response).hexdigest()\n",
    " \n",
    "        # check if new hash is same as the previous hash\n",
    "        if newHash == currentHash:\n",
    "            print('old')\n",
    "            continue\n",
    " \n",
    "        # if something changed in the hashes\n",
    "        else:\n",
    "            # notify\n",
    "            print(\"something changed\")\n",
    " \n",
    "            # again read the website\n",
    "            response = urlopen(url).read()\n",
    " \n",
    "            # create a hash\n",
    "            currentHash = hashlib.sha224(response).hexdigest()\n",
    " \n",
    "            # wait for 30 seconds\n",
    "            time.sleep(60)\n",
    "            continue\n",
    " \n",
    "    # To handle exceptions\n",
    "    except Exception as e:\n",
    "        print(\"error\")"
   ]
  }
 ],
 "metadata": {
  "kernelspec": {
   "display_name": ".venv",
   "language": "python",
   "name": "python3"
  },
  "language_info": {
   "codemirror_mode": {
    "name": "ipython",
    "version": 3
   },
   "file_extension": ".py",
   "mimetype": "text/x-python",
   "name": "python",
   "nbconvert_exporter": "python",
   "pygments_lexer": "ipython3",
   "version": "3.9.6"
  },
  "orig_nbformat": 4
 },
 "nbformat": 4,
 "nbformat_minor": 2
}
