{
 "cells": [
  {
   "cell_type": "code",
   "execution_count": 30,
   "metadata": {},
   "outputs": [],
   "source": [
    "from tf_idf import TfIdf\n",
    "import pandas as pd\n",
    "from IPython.display import display, HTML\n",
    "\n",
    "base_data_path = \"../../../data/fandoms_qa/harry_potter/all/\" #\"../../../data/fandoms_qa/fandoms_all/all/\"\n",
    "k = 5"
   ]
  },
  {
   "cell_type": "code",
   "execution_count": 31,
   "metadata": {},
   "outputs": [
    {
     "data": {
      "text/html": [
       "<link rel=\"stylesheet\" href=\"https://cdnjs.cloudflare.com/ajax/libs/font-awesome/5.15.3/css/all.min.css\">\n"
      ],
      "text/plain": [
       "<IPython.core.display.HTML object>"
      ]
     },
     "metadata": {},
     "output_type": "display_data"
    }
   ],
   "source": [
    "%%html\n",
    "<link rel=\"stylesheet\" href=\"https://cdnjs.cloudflare.com/ajax/libs/font-awesome/5.15.3/css/all.min.css\">"
   ]
  },
  {
   "cell_type": "code",
   "execution_count": 32,
   "metadata": {},
   "outputs": [],
   "source": [
    "def getWiklinkToPIDs(wikis,passages, pids):\n",
    "    return [wikis.loc[passages[passages['PID'] == pid].WID.values[0]].url for pid in pids]\n",
    "\n",
    "def getPassagesForPIDs(passages, pids):\n",
    "    return [passages[passages['PID'] == pid].passage.values[0] for pid in pids]\n",
    "\n",
    "def display_text_with_link(counter, html_address, text):\n",
    "    html_link = f'<div style=\"background-color: #f9f9f9; padding: 10px; border: 1px solid #ddd; border-radius: 5px; margin-bottom: 10px;\"><div style=\"display: inline-block; width: 30px; text-align: center; margin-right: 10px;\">{counter}.</div><a href=\"{html_address}\" target=\"_blank\" style=\"color: #1a0dab; text-decoration: none;\">{text}</a></div>'\n",
    "    display(HTML(html_link))\n",
    "\n",
    "def display_best_search_results(question, pairs):\n",
    "    title = f'<h2 style=\"color: #1a0dab;\"><i class=\"fa fa-search\" style=\"margin-right: 10px;\"></i>Best search results for question: \"{question}\"</h2>'\n",
    "    display(HTML(title))\n",
    "\n",
    "    for i, (website_html, text) in enumerate(pairs, start=1):\n",
    "        display_text_with_link(i, website_html, text)"
   ]
  },
  {
   "cell_type": "code",
   "execution_count": 33,
   "metadata": {},
   "outputs": [],
   "source": [
    "passages_df = pd.read_csv(base_data_path + 'passages.tsv', sep ='\\t')\n",
    "wikis_df = pd.read_json(base_data_path + 'wiki.json', orient='index')\n",
    "\n",
    "tf_idf = TfIdf(passages_df.passage.values, dict(enumerate(passages_df.PID.values)))"
   ]
  },
  {
   "cell_type": "code",
   "execution_count": 34,
   "metadata": {},
   "outputs": [
    {
     "data": {
      "text/html": [
       "<h2 style=\"color: #1a0dab;\"><i class=\"fa fa-search\" style=\"margin-right: 10px;\"></i>Best search results for question: \"Who is the mother of harry potter jr?\"</h2>"
      ],
      "text/plain": [
       "<IPython.core.display.HTML object>"
      ]
     },
     "metadata": {},
     "output_type": "display_data"
    },
    {
     "data": {
      "text/html": [
       "<div style=\"background-color: #f9f9f9; padding: 10px; border: 1px solid #ddd; border-radius: 5px; margin-bottom: 10px;\"><div style=\"display: inline-block; width: 30px; text-align: center; margin-right: 10px;\">1.</div><a href=\"http://harrypotter.fandom.com/wiki?curid=263268\" target=\"_blank\" style=\"color: #1a0dab; text-decoration: none;\">[The Recapture] Harry escaped Voldemort via the port key with Cedric's dead body which caused pandemonium that Barty Jr used to whisk Harry from the crowd. In his office, Barty Jr happily revealed he was behind everything and was about to kill Harry when Dumbledore, Minerva McGonagal. and Snape arrived and saved Harry, After fetching Winky and allowing the Polyjuice Potion to wear off Barty Jr was doused with Veriteserum and forced to confess.</a></div>"
      ],
      "text/plain": [
       "<IPython.core.display.HTML object>"
      ]
     },
     "metadata": {},
     "output_type": "display_data"
    },
    {
     "data": {
      "text/html": [
       "<div style=\"background-color: #f9f9f9; padding: 10px; border: 1px solid #ddd; border-radius: 5px; margin-bottom: 10px;\"><div style=\"display: inline-block; width: 30px; text-align: center; margin-right: 10px;\">2.</div><a href=\"http://harrypotter.fandom.com/wiki?curid=263268\" target=\"_blank\" style=\"color: #1a0dab; text-decoration: none;\">[Background] The switch worked and Barty Jr was taken home and placed under the Imperious Curse by Barty Sr. He was left under the care of Winky the House Elf and made to wear an invisibility cloak. Years later, Bertha Jorkins came by the Crouchs' house and discovered Barty Jr, forcing Barty Sr to put a Memory Charm on her. At the Quidditch World Cup, Barty Jr, who had began fighting the Imperious Curse, stole Harry Potter's wand while they were in the Top Box. When Lucius Malfoy and the other Death Eaters who avoided Azkaban attacked that night, Barty Jr was so angry about their lack of faith in their master that he cast the Dark Mark into the sky.</a></div>"
      ],
      "text/plain": [
       "<IPython.core.display.HTML object>"
      ]
     },
     "metadata": {},
     "output_type": "display_data"
    },
    {
     "data": {
      "text/html": [
       "<div style=\"background-color: #f9f9f9; padding: 10px; border: 1px solid #ddd; border-radius: 5px; margin-bottom: 10px;\"><div style=\"display: inline-block; width: 30px; text-align: center; margin-right: 10px;\">3.</div><a href=\"http://harrypotter.fandom.com/wiki?curid=263268\" target=\"_blank\" style=\"color: #1a0dab; text-decoration: none;\">[Background] Barty Sr took Barty Jr home and dismissed Winky. Afterwards, Voldemort and Wormtail arrived thanks to information they extracted from Bertha Jorkins, who they captured and murdered. Voldemort placed Barty Sr under the Imperious Curse and freed Barty Jr, whio he tasked with infiltarting Hogwarts and entering Harry Potter in the Triwizard Tournament and ensuring he would be delivered to Voldemort. To this end, Barty Jr attacked Alaster Moody and took his place via Polyjuice Potion. As Moody, Barty Jr enter Harry Potter in the Triwizard Tournament and helped him get through the first tow tasks safely. However, he also had to keep taking the Polyjuice Potion. Every time his supplies for the potion ran out, he would raid Severus Snape's private stores to steal more.</a></div>"
      ],
      "text/plain": [
       "<IPython.core.display.HTML object>"
      ]
     },
     "metadata": {},
     "output_type": "display_data"
    },
    {
     "data": {
      "text/html": [
       "<div style=\"background-color: #f9f9f9; padding: 10px; border: 1px solid #ddd; border-radius: 5px; margin-bottom: 10px;\"><div style=\"display: inline-block; width: 30px; text-align: center; margin-right: 10px;\">4.</div><a href=\"http://harrypotter.fandom.com/wiki?curid=187958\" target=\"_blank\" style=\"color: #1a0dab; text-decoration: none;\">Joshua Davies is a British actor who portrayed M. Crenshaw Jr in \"Fantastic Beasts and Where to Find Them\".</a></div>"
      ],
      "text/plain": [
       "<IPython.core.display.HTML object>"
      ]
     },
     "metadata": {},
     "output_type": "display_data"
    },
    {
     "data": {
      "text/html": [
       "<div style=\"background-color: #f9f9f9; padding: 10px; border: 1px solid #ddd; border-radius: 5px; margin-bottom: 10px;\"><div style=\"display: inline-block; width: 30px; text-align: center; margin-right: 10px;\">5.</div><a href=\"http://harrypotter.fandom.com/wiki?curid=242658\" target=\"_blank\" style=\"color: #1a0dab; text-decoration: none;\">Calvin Coolidge (born John Calvin Coolidge Jr.) was an American No-Maj politician.</a></div>"
      ],
      "text/plain": [
       "<IPython.core.display.HTML object>"
      ]
     },
     "metadata": {},
     "output_type": "display_data"
    }
   ],
   "source": [
    "while True:\n",
    "    question = input('Enter your question: ')\n",
    "    if question == 'exit':\n",
    "        break\n",
    "\n",
    "    best_pids = tf_idf.answerQuestion([question],k)[0]\n",
    "\n",
    "    links = getWiklinkToPIDs(wikis_df,passages_df, best_pids)\n",
    "    passage_matches = getPassagesForPIDs(passages_df, best_pids)\n",
    "\n",
    "    display_best_search_results(question, list(zip(links,passage_matches)))"
   ]
  },
  {
   "cell_type": "code",
   "execution_count": null,
   "metadata": {},
   "outputs": [],
   "source": []
  }
 ],
 "metadata": {
  "kernelspec": {
   "display_name": "Python 3 (ipykernel)",
   "language": "python",
   "name": "python3"
  },
  "language_info": {
   "codemirror_mode": {
    "name": "ipython",
    "version": 3
   },
   "file_extension": ".py",
   "mimetype": "text/x-python",
   "name": "python",
   "nbconvert_exporter": "python",
   "pygments_lexer": "ipython3",
   "version": "3.9.6"
  }
 },
 "nbformat": 4,
 "nbformat_minor": 2
}
