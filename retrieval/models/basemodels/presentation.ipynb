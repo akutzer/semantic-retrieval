{
 "cells": [
  {
   "cell_type": "code",
   "execution_count": 8,
   "metadata": {},
   "outputs": [],
   "source": [
    "from tf_idf import TfIdf\n",
    "import pandas as pd\n",
    "\n",
    "base_data_path = \"../../../data/fandoms_qa/harry_potter/all/\" #\"../../../data/fandoms_qa/fandoms_all/all/\"\n",
    "k = 5"
   ]
  },
  {
   "cell_type": "code",
   "execution_count": 9,
   "metadata": {},
   "outputs": [],
   "source": [
    "def getWiklinkToPIDs(wikis,passages, pids):\n",
    "    return [wikis.loc[passages[passages['PID'] == pid].WID.values[0]].url for pid in pids]\n",
    "\n",
    "def getPassagesForPIDs(passages, pids):\n",
    "    return [passages[passages['PID'] == pid].passage.values[0] for pid in pids]"
   ]
  },
  {
   "cell_type": "code",
   "execution_count": 10,
   "metadata": {},
   "outputs": [],
   "source": [
    "passages_df = pd.read_csv(base_data_path + 'passages.tsv', sep ='\\t')\n",
    "wikis_df = pd.read_json(base_data_path + 'wiki.json', orient='index')"
   ]
  },
  {
   "cell_type": "code",
   "execution_count": 11,
   "metadata": {},
   "outputs": [],
   "source": [
    "tf_idf = TfIdf(passages_df.passage.values, dict(enumerate(passages_df.PID.values)))"
   ]
  },
  {
   "cell_type": "code",
   "execution_count": 12,
   "metadata": {},
   "outputs": [],
   "source": [
    "# question = input()\n",
    "question = 'who is the mother of harry potter'\n",
    "best_pids = tf_idf.answerQuestion([question],k)[0]\n",
    "\n",
    "links = getWiklinkToPIDs(wikis_df,passages_df, best_pids)\n",
    "passage_matches = getPassagesForPIDs(passages_df, best_pids)\n",
    "\n",
    "links_passages_matches = list(zip(links,passage_matches))\n"
   ]
  },
  {
   "cell_type": "code",
   "execution_count": 21,
   "metadata": {},
   "outputs": [],
   "source": [
    "from IPython.display import display, HTML\n",
    "\n",
    "def display_text_with_link(counter, html_address, text):\n",
    "    html_link = f'<div style=\"background-color: #f9f9f9; padding: 10px; border: 1px solid #ddd; border-radius: 5px; margin-bottom: 10px;\"><div style=\"display: inline-block; width: 30px; text-align: center; margin-right: 10px;\">{counter}.</div><a href=\"{html_address}\" target=\"_blank\" style=\"color: #1a0dab; text-decoration: none;\">{text}</a></div>'\n",
    "    display(HTML(html_link))\n",
    "\n",
    "def display_best_search_results(question, pairs):\n",
    "    title = f'<h2 style=\"color: #1a0dab;\">Best search results for question: \"{question}\"</h2>'\n",
    "    display(HTML(title))\n",
    "\n",
    "    for i, (website_html, text) in enumerate(pairs, start=1):\n",
    "        display_text_with_link(i, website_html, text)"
   ]
  },
  {
   "cell_type": "code",
   "execution_count": 23,
   "metadata": {},
   "outputs": [
    {
     "data": {
      "text/html": [
       "<h2 style=\"color: #1a0dab;\">Best search results for question: \"Who is the mother of harry potter?\"</h2>"
      ],
      "text/plain": [
       "<IPython.core.display.HTML object>"
      ]
     },
     "metadata": {},
     "output_type": "display_data"
    },
    {
     "data": {
      "text/html": [
       "<div style=\"background-color: #f9f9f9; padding: 10px; border: 1px solid #ddd; border-radius: 5px; margin-bottom: 10px;\"><div style=\"display: inline-block; width: 30px; text-align: center; margin-right: 10px;\">1.</div><a href=\"http://harrypotter.fandom.com/wiki?curid=7492\" target=\"_blank\" style=\"color: #1a0dab; text-decoration: none;\">Geraldine Somerville is an Irish/British actress who portrayed Lily Potter in the film adaptations of the Harry Potter series. She had more substantial roles in \"Harry Potter and the Philosopher's Stone\" and \"Harry Potter and the Goblet of Fire\", and appeared mainly in photographs in the other films. She reprised her role as Harry Potter's mother for and \".</a></div>"
      ],
      "text/plain": [
       "<IPython.core.display.HTML object>"
      ]
     },
     "metadata": {},
     "output_type": "display_data"
    },
    {
     "data": {
      "text/html": [
       "<div style=\"background-color: #f9f9f9; padding: 10px; border: 1px solid #ddd; border-radius: 5px; margin-bottom: 10px;\"><div style=\"display: inline-block; width: 30px; text-align: center; margin-right: 10px;\">2.</div><a href=\"http://harrypotter.fandom.com/wiki?curid=186665\" target=\"_blank\" style=\"color: #1a0dab; text-decoration: none;\">Charlotte Beadle is a British actress who appeared as an extra in \"Harry Potter and the Chamber of Secrets\", \"Harry Potter and the Prisoner of Azkaban\", and \"Harry Potter and the Order of the Phoenix\".</a></div>"
      ],
      "text/plain": [
       "<IPython.core.display.HTML object>"
      ]
     },
     "metadata": {},
     "output_type": "display_data"
    },
    {
     "data": {
      "text/html": [
       "<div style=\"background-color: #f9f9f9; padding: 10px; border: 1px solid #ddd; border-radius: 5px; margin-bottom: 10px;\"><div style=\"display: inline-block; width: 30px; text-align: center; margin-right: 10px;\">3.</div><a href=\"http://harrypotter.fandom.com/wiki?curid=186675\" target=\"_blank\" style=\"color: #1a0dab; text-decoration: none;\">Bethany Lucey is a British actress who played a Hogwarts student in \"Harry Potter and the Chamber of Secrets\", \"Harry Potter and the Prisoner of Azkaban\", and \"Harry Potter and the Goblet of Fire\".</a></div>"
      ],
      "text/plain": [
       "<IPython.core.display.HTML object>"
      ]
     },
     "metadata": {},
     "output_type": "display_data"
    },
    {
     "data": {
      "text/html": [
       "<div style=\"background-color: #f9f9f9; padding: 10px; border: 1px solid #ddd; border-radius: 5px; margin-bottom: 10px;\"><div style=\"display: inline-block; width: 30px; text-align: center; margin-right: 10px;\">4.</div><a href=\"http://harrypotter.fandom.com/wiki?curid=27531\" target=\"_blank\" style=\"color: #1a0dab; text-decoration: none;\">Mrs Hesleden was the mother of Hogwarts student Susanna Hesleden.</a></div>"
      ],
      "text/plain": [
       "<IPython.core.display.HTML object>"
      ]
     },
     "metadata": {},
     "output_type": "display_data"
    },
    {
     "data": {
      "text/html": [
       "<div style=\"background-color: #f9f9f9; padding: 10px; border: 1px solid #ddd; border-radius: 5px; margin-bottom: 10px;\"><div style=\"display: inline-block; width: 30px; text-align: center; margin-right: 10px;\">5.</div><a href=\"http://harrypotter.fandom.com/wiki?curid=178278\" target=\"_blank\" style=\"color: #1a0dab; text-decoration: none;\">Harry Potter and the Chamber of Secrets is the second \"Harry Potter\" video game for the .</a></div>"
      ],
      "text/plain": [
       "<IPython.core.display.HTML object>"
      ]
     },
     "metadata": {},
     "output_type": "display_data"
    }
   ],
   "source": [
    "while True:\n",
    "    question = input('Enter your question: ')\n",
    "    if question == 'exit':\n",
    "        break\n",
    "\n",
    "    best_pids = tf_idf.answerQuestion([question],k)[0]\n",
    "\n",
    "    links = getWiklinkToPIDs(wikis_df,passages_df, best_pids)\n",
    "    passage_matches = getPassagesForPIDs(passages_df, best_pids)\n",
    "\n",
    "    display_best_search_results(question, list(zip(links,passage_matches)))"
   ]
  }
 ],
 "metadata": {
  "kernelspec": {
   "display_name": "Python 3 (ipykernel)",
   "language": "python",
   "name": "python3"
  },
  "language_info": {
   "codemirror_mode": {
    "name": "ipython",
    "version": 3
   },
   "file_extension": ".py",
   "mimetype": "text/x-python",
   "name": "python",
   "nbconvert_exporter": "python",
   "pygments_lexer": "ipython3",
   "version": "3.9.6"
  }
 },
 "nbformat": 4,
 "nbformat_minor": 2
}
